{
 "cells": [
  {
   "cell_type": "code",
   "execution_count": 6,
   "metadata": {},
   "outputs": [
    {
     "name": "stderr",
     "output_type": "stream",
     "text": [
      "INFO:pystan:COMPILING THE C++ CODE FOR MODEL anon_model_fdab647972a401155d6ee7e515fd4ba5 NOW.\n",
      "/Users/lukasolson/anaconda3/envs/stan_env/lib/python3.7/site-packages/Cython/Compiler/Main.py:367: FutureWarning: Cython directive 'language_level' not set, using 2 for now (Py2). This will change in a later release! File: /var/folders/cl/ch5nhgzn26ngszgrdfktvgy00000gn/T/tmpulsad3rc/stanfit4anon_model_fdab647972a401155d6ee7e515fd4ba5_1575406605832894304.pyx\n",
      "  tree = Parsing.p_module(s, pxd, full_module_name)\n"
     ]
    },
    {
     "name": "stdout",
     "output_type": "stream",
     "text": [
      "Rasch model\n",
      "Inference for Stan model: anon_model_fdab647972a401155d6ee7e515fd4ba5.\n",
      "4 chains, each with iter=200; warmup=100; thin=1; \n",
      "post-warmup draws per chain=100, total post-warmup draws=400.\n",
      "\n",
      "                  mean se_mean     sd   2.5%    25%    50%    75%  97.5%  n_eff   Rhat\n",
      "Item 0\n",
      "  beta[1]        -1.34  4.9e-3    0.1  -1.54   -1.4  -1.33  -1.27  -1.16    384    1.0\n",
      "Item 1\n",
      "  beta[2]        -0.31  4.8e-3   0.09  -0.49  -0.37   -0.3  -0.25  -0.16    325   0.99\n",
      "Item 2\n",
      "  beta[3]         1.44  6.4e-3   0.09   1.27   1.38   1.44   1.49   1.61    189   1.01\n",
      "Item 3\n",
      "  beta[4]          0.2  3.7e-3   0.08   0.04   0.15    0.2   0.26   0.37    516    1.0\n",
      "Ability distribution\n",
      "  lambda[1]       0.36  3.2e-3   0.07   0.22   0.31   0.36   0.41   0.49    462    1.0\n",
      "  sigma           1.26    0.01   0.09   1.07    1.2   1.26   1.31   1.44     62   1.06\n",
      "\n",
      "Samples were drawn using NUTS at Sat Feb 23 18:42:26 2019.\n",
      "For each parameter, n_eff is a crude measure of effective sample size,\n",
      "and Rhat is the potential scale reduction factor on split chains (at \n",
      "convergence, Rhat=1).\n",
      "Inference for Stan model: anon_model_fdab647972a401155d6ee7e515fd4ba5.\n",
      "4 chains, each with iter=200; warmup=100; thin=1; \n",
      "post-warmup draws per chain=100, total post-warmup draws=400.\n",
      "\n",
      "                  mean se_mean     sd   2.5%    25%    50%    75%  97.5%  n_eff   Rhat\n",
      "Item 0\n",
      "  beta[1]        -1.34  4.9e-3    0.1  -1.54   -1.4  -1.33  -1.27  -1.16    384    1.0\n",
      "Item 1\n",
      "  beta[2]        -0.31  4.8e-3   0.09  -0.49  -0.37   -0.3  -0.25  -0.16    325   0.99\n",
      "Item 2\n",
      "  beta[3]         1.44  6.4e-3   0.09   1.27   1.38   1.44   1.49   1.61    189   1.01\n",
      "Item 3\n",
      "  beta[4]          0.2  3.7e-3   0.08   0.04   0.15    0.2   0.26   0.37    516    1.0\n",
      "Ability distribution\n",
      "  lambda[1]       0.36  3.2e-3   0.07   0.22   0.31   0.36   0.41   0.49    462    1.0\n",
      "  sigma           1.26    0.01   0.09   1.07    1.2   1.26   1.31   1.44     62   1.06\n",
      "\n",
      "Samples were drawn using NUTS at Sat Feb 23 18:42:26 2019.\n",
      "For each parameter, n_eff is a crude measure of effective sample size,\n",
      "and Rhat is the potential scale reduction factor on split chains (at \n",
      "convergence, Rhat=1).\n"
     ]
    }
   ],
   "source": [
    "import edstan\n",
    "import pandas\n",
    "\n",
    "# Import data as a pandas data frame\n",
    "spelling = pandas.read_csv('spelling.csv')\n",
    "words = ['infidelity', 'panoramic', 'succumb', 'girder']\n",
    "\n",
    "# Use the response matrix to create an EdstanData instance\n",
    "ed_1 = edstan.EdstanData(response_matrix = spelling[words])\n",
    "\n",
    "# Fit the Rasch model\n",
    "fit_1 = ed_1.fit_model('rasch', iter = 200, chains = 4)\n",
    "\n",
    "# Print results\n",
    "ed_1.print_from_fit(fit_1)"
   ]
  },
  {
   "cell_type": "code",
   "execution_count": 7,
   "metadata": {},
   "outputs": [
    {
     "name": "stdout",
     "output_type": "stream",
     "text": [
      "Collecting seaborn\n",
      "  Using cached https://files.pythonhosted.org/packages/a8/76/220ba4420459d9c4c9c9587c6ce607bf56c25b3d3d2de62056efe482dadc/seaborn-0.9.0-py3-none-any.whl\n",
      "Requirement already satisfied: numpy>=1.9.3 in /Users/lukasolson/anaconda3/envs/stan_env/lib/python3.7/site-packages (from seaborn) (1.15.4)\n",
      "Requirement already satisfied: pandas>=0.15.2 in /Users/lukasolson/anaconda3/envs/stan_env/lib/python3.7/site-packages (from seaborn) (0.24.1)\n",
      "Collecting scipy>=0.14.0 (from seaborn)\n",
      "\u001b[?25l  Downloading https://files.pythonhosted.org/packages/dd/6c/ccf7403d14f0ab0f20ce611696921f204f4ffce99a4fd383c892a6a7e9eb/scipy-1.2.1-cp37-cp37m-macosx_10_6_intel.macosx_10_9_intel.macosx_10_9_x86_64.macosx_10_10_intel.macosx_10_10_x86_64.whl (27.3MB)\n",
      "\u001b[K    100% |████████████████████████████████| 27.3MB 273kB/s ta 0:00:012\n",
      "\u001b[?25hRequirement already satisfied: matplotlib>=1.4.3 in /Users/lukasolson/anaconda3/envs/stan_env/lib/python3.7/site-packages (from seaborn) (3.0.2)\n",
      "Requirement already satisfied: python-dateutil>=2.5.0 in /Users/lukasolson/anaconda3/envs/stan_env/lib/python3.7/site-packages (from pandas>=0.15.2->seaborn) (2.7.5)\n",
      "Requirement already satisfied: pytz>=2011k in /Users/lukasolson/anaconda3/envs/stan_env/lib/python3.7/site-packages (from pandas>=0.15.2->seaborn) (2018.9)\n",
      "Requirement already satisfied: cycler>=0.10 in /Users/lukasolson/anaconda3/envs/stan_env/lib/python3.7/site-packages (from matplotlib>=1.4.3->seaborn) (0.10.0)\n",
      "Requirement already satisfied: kiwisolver>=1.0.1 in /Users/lukasolson/anaconda3/envs/stan_env/lib/python3.7/site-packages (from matplotlib>=1.4.3->seaborn) (1.0.1)\n",
      "Requirement already satisfied: pyparsing!=2.0.4,!=2.1.2,!=2.1.6,>=2.0.1 in /Users/lukasolson/anaconda3/envs/stan_env/lib/python3.7/site-packages (from matplotlib>=1.4.3->seaborn) (2.3.1)\n",
      "Requirement already satisfied: six>=1.5 in /Users/lukasolson/anaconda3/envs/stan_env/lib/python3.7/site-packages (from python-dateutil>=2.5.0->pandas>=0.15.2->seaborn) (1.12.0)\n",
      "Requirement already satisfied: setuptools in /Users/lukasolson/anaconda3/envs/stan_env/lib/python3.7/site-packages (from kiwisolver>=1.0.1->matplotlib>=1.4.3->seaborn) (40.8.0)\n",
      "Installing collected packages: scipy, seaborn\n",
      "Successfully installed scipy-1.2.1 seaborn-0.9.0\n"
     ]
    }
   ],
   "source": [
    "!pip install seaborn"
   ]
  },
  {
   "cell_type": "code",
   "execution_count": 8,
   "metadata": {},
   "outputs": [
    {
     "name": "stdout",
     "output_type": "stream",
     "text": [
      "Requirement already satisfied: matplotlib in /Users/lukasolson/anaconda3/envs/stan_env/lib/python3.7/site-packages (3.0.2)\n",
      "Requirement already satisfied: numpy>=1.10.0 in /Users/lukasolson/anaconda3/envs/stan_env/lib/python3.7/site-packages (from matplotlib) (1.15.4)\n",
      "Requirement already satisfied: cycler>=0.10 in /Users/lukasolson/anaconda3/envs/stan_env/lib/python3.7/site-packages (from matplotlib) (0.10.0)\n",
      "Requirement already satisfied: kiwisolver>=1.0.1 in /Users/lukasolson/anaconda3/envs/stan_env/lib/python3.7/site-packages (from matplotlib) (1.0.1)\n",
      "Requirement already satisfied: pyparsing!=2.0.4,!=2.1.2,!=2.1.6,>=2.0.1 in /Users/lukasolson/anaconda3/envs/stan_env/lib/python3.7/site-packages (from matplotlib) (2.3.1)\n",
      "Requirement already satisfied: python-dateutil>=2.1 in /Users/lukasolson/anaconda3/envs/stan_env/lib/python3.7/site-packages (from matplotlib) (2.7.5)\n",
      "Requirement already satisfied: six in /Users/lukasolson/anaconda3/envs/stan_env/lib/python3.7/site-packages (from cycler>=0.10->matplotlib) (1.12.0)\n",
      "Requirement already satisfied: setuptools in /Users/lukasolson/anaconda3/envs/stan_env/lib/python3.7/site-packages (from kiwisolver>=1.0.1->matplotlib) (40.8.0)\n"
     ]
    }
   ],
   "source": [
    "!pip install matplotlib"
   ]
  },
  {
   "cell_type": "code",
   "execution_count": 2,
   "metadata": {},
   "outputs": [
    {
     "name": "stderr",
     "output_type": "stream",
     "text": [
      "INFO:pystan:COMPILING THE C++ CODE FOR MODEL anon_model_19a09b474d1901f191444eaf8a6b8ce2 NOW.\n",
      "/Users/lukasolson/anaconda3/envs/stan_env/lib/python3.7/site-packages/Cython/Compiler/Main.py:367: FutureWarning: Cython directive 'language_level' not set, using 2 for now (Py2). This will change in a later release! File: /var/folders/cl/ch5nhgzn26ngszgrdfktvgy00000gn/T/tmptj_24zie/stanfit4anon_model_19a09b474d1901f191444eaf8a6b8ce2_1318476087781183435.pyx\n",
      "  tree = Parsing.p_module(s, pxd, full_module_name)\n"
     ]
    }
   ],
   "source": [
    "import pystan\n",
    "schools_code = \"\"\"\n",
    "data {\n",
    "    int<lower=0> J; // number of schools\n",
    "    vector[J] y; // estimated treatment effects\n",
    "    vector<lower=0>[J] sigma; // s.e. of effect estimates\n",
    "}\n",
    "parameters {\n",
    "    real mu;\n",
    "    real<lower=0> tau;\n",
    "    vector[J] eta;\n",
    "}\n",
    "transformed parameters {\n",
    "    vector[J] theta;\n",
    "    theta = mu + tau * eta;\n",
    "}\n",
    "model {\n",
    "    eta ~ normal(0, 1);\n",
    "    y ~ normal(theta, sigma);\n",
    "}\n",
    "\"\"\"\n",
    "\n",
    "schools_dat = {'J': 8,\n",
    "               'y': [28,  8, -3,  7, -1,  1, 18, 12],\n",
    "               'sigma': [15, 10, 16, 11,  9, 11, 10, 18]}\n",
    "\n",
    "sm = pystan.StanModel(model_code=schools_code)\n",
    "fit = sm.sampling(data=schools_dat, iter=1000, chains=4)"
   ]
  },
  {
   "cell_type": "code",
   "execution_count": null,
   "metadata": {
    "collapsed": true
   },
   "outputs": [],
   "source": []
  }
 ],
 "metadata": {
  "kernelspec": {
   "display_name": "Python 3",
   "language": "python",
   "name": "python3"
  },
  "language_info": {
   "codemirror_mode": {
    "name": "ipython",
    "version": 3
   },
   "file_extension": ".py",
   "mimetype": "text/x-python",
   "name": "python",
   "nbconvert_exporter": "python",
   "pygments_lexer": "ipython3",
   "version": "3.7.2"
  }
 },
 "nbformat": 4,
 "nbformat_minor": 2
}
